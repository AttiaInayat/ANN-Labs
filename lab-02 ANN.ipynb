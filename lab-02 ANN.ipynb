{
 "cells": [
  {
   "cell_type": "code",
   "execution_count": 62,
   "id": "e11448a0",
   "metadata": {},
   "outputs": [
    {
     "name": "stdout",
     "output_type": "stream",
     "text": [
      "Last time this file was run:  2025-02-21 17:03:03.422655\n"
     ]
    }
   ],
   "source": [
    "import datetime\n",
    "print(\"Last time this file was run: \",datetime.datetime.now())"
   ]
  },
  {
   "cell_type": "markdown",
   "id": "cf5b936b",
   "metadata": {},
   "source": [
    "# SP23-BAI-012"
   ]
  },
  {
   "cell_type": "markdown",
   "id": "1f191fb9",
   "metadata": {},
   "source": [
    "Graded Lab Tasks"
   ]
  },
  {
   "cell_type": "markdown",
   "id": "20aa2be1",
   "metadata": {},
   "source": [
    "Lab Task 1"
   ]
  },
  {
   "cell_type": "code",
   "execution_count": 63,
   "id": "231b1a61",
   "metadata": {},
   "outputs": [],
   "source": [
    "import numpy as np\n"
   ]
  },
  {
   "cell_type": "code",
   "execution_count": 64,
   "id": "42c5e54b",
   "metadata": {},
   "outputs": [
    {
     "name": "stdout",
     "output_type": "stream",
     "text": [
      "[[6 4 6]\n",
      " [8 6 5]\n",
      " [1 7 3]] \n",
      "\n",
      "[[0.15 0.73 0.81 0.6 ]\n",
      " [0.92 0.57 0.16 0.91]\n",
      " [0.9  0.46 0.01 0.39]\n",
      " [0.9  0.23 0.3  0.19]]\n"
     ]
    }
   ],
   "source": [
    "# 1- Matrix Declaration\n",
    "int_matrix= np.random.randint(1,10, (3,3),dtype=int)\n",
    "print(int_matrix,'\\n')\n",
    "float_matrix= np.round(np.random.rand(4,4),2)\n",
    "print(float_matrix)\n"
   ]
  },
  {
   "cell_type": "code",
   "execution_count": 65,
   "id": "7a0b24f2",
   "metadata": {},
   "outputs": [
    {
     "name": "stdout",
     "output_type": "stream",
     "text": [
      "Accessing the 2nd row and 3rd col : 5\n",
      "Changing the element at 1st row and 4th col:  20.5\n"
     ]
    }
   ],
   "source": [
    "# 2- Matrix Indexing\n",
    "print(\"Accessing the 2nd row and 3rd col :\",int_matrix[1,2])\n",
    "float_matrix[1,3]=20.5\n",
    "print('Changing the element at 1st row and 4th col: ',float_matrix[1,3])"
   ]
  },
  {
   "cell_type": "code",
   "execution_count": 66,
   "id": "bfc3d55b",
   "metadata": {},
   "outputs": [
    {
     "name": "stdout",
     "output_type": "stream",
     "text": [
      "First two rows and col of int matrix:  [[6 4]\n",
      " [8 6]]\n",
      "Last row of float matrix:  [0.9  0.23 0.3  0.19]\n"
     ]
    }
   ],
   "source": [
    "#3- Matrix Slicing\n",
    "print('First two rows and col of int matrix: ',int_matrix[0:2,0:2])\n",
    "print('Last row of float matrix: ', float_matrix[-1,:])"
   ]
  },
  {
   "cell_type": "markdown",
   "id": "735e6a18",
   "metadata": {},
   "source": [
    "Lab Task 2"
   ]
  },
  {
   "cell_type": "code",
   "execution_count": 67,
   "id": "dcb02f73",
   "metadata": {},
   "outputs": [
    {
     "name": "stdout",
     "output_type": "stream",
     "text": [
      "Integer matrix: \n",
      " [[5 9 3]\n",
      " [8 7 8]\n",
      " [5 1 8]]\n",
      "Float matrix: \n",
      " [[0.61 0.2  0.71]\n",
      " [0.53 0.88 0.49]\n",
      " [0.07 0.89 0.42]]\n"
     ]
    }
   ],
   "source": [
    "# 1- Matrix Declaration\n",
    "matrix_int= np.random.randint(1,10,(3,3),dtype=int)\n",
    "matrix_float= np.round(np.random.rand(3,3),2)\n",
    "print(\"Integer matrix: \\n\",matrix_int)\n",
    "print(\"Float matrix: \\n\",matrix_float)"
   ]
  },
  {
   "cell_type": "code",
   "execution_count": 68,
   "id": "83d5b9d5",
   "metadata": {},
   "outputs": [
    {
     "data": {
      "text/plain": [
       "array([[5.61, 9.2 , 3.71],\n",
       "       [8.53, 7.88, 8.49],\n",
       "       [5.07, 1.89, 8.42]])"
      ]
     },
     "execution_count": 68,
     "metadata": {},
     "output_type": "execute_result"
    }
   ],
   "source": [
    "# 2- Basic matrix operations\n",
    "matrix_int+matrix_float"
   ]
  },
  {
   "cell_type": "code",
   "execution_count": 69,
   "id": "2f6e4d9a",
   "metadata": {},
   "outputs": [
    {
     "data": {
      "text/plain": [
       "array([[3.05, 1.8 , 2.13],\n",
       "       [4.24, 6.16, 3.92],\n",
       "       [0.35, 0.89, 3.36]])"
      ]
     },
     "execution_count": 69,
     "metadata": {},
     "output_type": "execute_result"
    }
   ],
   "source": [
    "matrix_int*matrix_float"
   ]
  },
  {
   "cell_type": "code",
   "execution_count": 70,
   "id": "9b108b18",
   "metadata": {},
   "outputs": [
    {
     "data": {
      "text/plain": [
       "array([[5, 8, 5],\n",
       "       [9, 7, 1],\n",
       "       [3, 8, 8]])"
      ]
     },
     "execution_count": 70,
     "metadata": {},
     "output_type": "execute_result"
    }
   ],
   "source": [
    "matrix_int.T"
   ]
  },
  {
   "cell_type": "code",
   "execution_count": 71,
   "id": "8fca35e8",
   "metadata": {},
   "outputs": [
    {
     "data": {
      "text/plain": [
       "array([[ 8.03, 11.59,  9.22],\n",
       "       [ 9.15, 14.88, 12.47],\n",
       "       [ 4.14,  9.  ,  7.4 ]])"
      ]
     },
     "execution_count": 71,
     "metadata": {},
     "output_type": "execute_result"
    }
   ],
   "source": [
    "# 3- Advanced Matrix Operations\n",
    "np.matmul(matrix_int,matrix_float)"
   ]
  },
  {
   "cell_type": "code",
   "execution_count": 72,
   "id": "73ca1bc3",
   "metadata": {},
   "outputs": [
    {
     "data": {
      "text/plain": [
       "-57.00000000000001"
      ]
     },
     "execution_count": 72,
     "metadata": {},
     "output_type": "execute_result"
    }
   ],
   "source": [
    "np.linalg.det(matrix_int)"
   ]
  },
  {
   "cell_type": "code",
   "execution_count": 73,
   "id": "edc835c1",
   "metadata": {},
   "outputs": [
    {
     "data": {
      "text/plain": [
       "array([[-0.31228574,  2.57295277, -2.47386661],\n",
       "       [-0.88426174,  0.96972941,  0.36347243],\n",
       "       [ 1.92584035, -2.48372827,  2.0230481 ]])"
      ]
     },
     "execution_count": 73,
     "metadata": {},
     "output_type": "execute_result"
    }
   ],
   "source": [
    "np.linalg.inv(matrix_float)"
   ]
  },
  {
   "cell_type": "markdown",
   "id": "7f299c82",
   "metadata": {},
   "source": [
    "Lab Task 3"
   ]
  },
  {
   "cell_type": "code",
   "execution_count": 74,
   "id": "c44e708a",
   "metadata": {},
   "outputs": [],
   "source": [
    "data=[[1,85,78,92],\n",
    "     [2,76,85,88],\n",
    "     [3,90,92,95],\n",
    "     [4,68,72,70],\n",
    "     [5,88,89,94]]"
   ]
  },
  {
   "cell_type": "code",
   "execution_count": 75,
   "id": "6c27760b",
   "metadata": {},
   "outputs": [],
   "source": [
    "import numpy as np\n",
    "import matplotlib.pyplot as plt"
   ]
  },
  {
   "cell_type": "code",
   "execution_count": 76,
   "id": "ea4100e2",
   "metadata": {},
   "outputs": [
    {
     "name": "stdout",
     "output_type": "stream",
     "text": [
      "[[ 1 85 78 92]\n",
      " [ 2 76 85 88]\n",
      " [ 3 90 92 95]\n",
      " [ 4 68 72 70]\n",
      " [ 5 88 89 94]]\n",
      "<class 'numpy.ndarray'>\n"
     ]
    }
   ],
   "source": [
    "array=np.array(data)\n",
    "print(array)\n",
    "print(type(array))"
   ]
  },
  {
   "cell_type": "code",
   "execution_count": 77,
   "id": "2bfa9304",
   "metadata": {},
   "outputs": [
    {
     "name": "stdout",
     "output_type": "stream",
     "text": [
      "Math:  [85 76 90 68 88]\n",
      "Science:  [78 85 92 72 89]\n",
      "English:  [92 88 95 70 94]\n"
     ]
    }
   ],
   "source": [
    "math=array[:,1]\n",
    "science=array[:,2]\n",
    "english=array[:,3]\n",
    "print(\"Math: \",math)\n",
    "print(\"Science: \",science)\n",
    "print(\"English: \",english)"
   ]
  },
  {
   "cell_type": "code",
   "execution_count": 78,
   "id": "b414daa0",
   "metadata": {},
   "outputs": [
    {
     "name": "stdout",
     "output_type": "stream",
     "text": [
      "math average:  81.4\n",
      "science average:  83.2\n",
      "english average:  87.8\n"
     ]
    }
   ],
   "source": [
    "math_avg=np.mean(math)\n",
    "print(\"math average: \",math_avg)\n",
    "\n",
    "science_avg=np.mean(science)\n",
    "print(\"science average: \",science_avg)\n",
    "\n",
    "english_avg=np.mean(english)\n",
    "print(\"english average: \",english_avg)"
   ]
  },
  {
   "cell_type": "code",
   "execution_count": 79,
   "id": "f59b6207",
   "metadata": {},
   "outputs": [
    {
     "name": "stdout",
     "output_type": "stream",
     "text": [
      "Average for student 1:  85.0\n",
      "Average for student 2:  83.0\n",
      "Average for student 3:  92.33\n",
      "Average for student 4:  70.0\n",
      "Average for student 5:  90.33\n"
     ]
    }
   ],
   "source": [
    "avg_std1=np.round(np.mean(array[0,1:]),2)\n",
    "avg_std2=np.round(np.mean(array[1,1:]),2)\n",
    "avg_std3=np.round(np.mean(array[2,1:]),2)\n",
    "avg_std4=np.round(np.mean(array[3,1:]),2)\n",
    "avg_std5=np.round(np.mean(array[4,1:]),2)\n",
    "\n",
    "\n",
    "print(\"Average for student 1: \",avg_std1)\n",
    "print(\"Average for student 2: \",avg_std2)\n",
    "print(\"Average for student 3: \",avg_std3)\n",
    "print(\"Average for student 4: \",avg_std4)\n",
    "print(\"Average for student 5: \",avg_std5)"
   ]
  },
  {
   "cell_type": "code",
   "execution_count": 80,
   "id": "e9b26623",
   "metadata": {},
   "outputs": [],
   "source": [
    "students_avg_marks=[avg_std1,avg_std2,avg_std3,avg_std4,avg_std5]\n",
    "students=['std1','std2','std3','std4','std5']"
   ]
  },
  {
   "cell_type": "code",
   "execution_count": 81,
   "id": "50bfa3d0",
   "metadata": {},
   "outputs": [
    {
     "data": {
      "image/png": "[encoded data removed]",
      "text/plain": [
       "<Figure size 600x500 with 1 Axes>"
      ]
     },
     "metadata": {},
     "output_type": "display_data"
    }
   ],
   "source": [
    "plt.figure(figsize=(6,5))\n",
    "plt.bar(students,students_avg_marks)\n",
    "plt.xlabel(\"Students\")\n",
    "plt.ylabel(\"Avg Marks\")\n",
    "plt.title(\"Students grades\")\n",
    "plt.tight_layout()\n",
    "plt.show()"
   ]
  },
  {
   "cell_type": "code",
   "execution_count": 82,
   "id": "fd00d606",
   "metadata": {},
   "outputs": [
    {
     "data": {
      "image/png": "[encoded data removed]",
      "text/plain": [
       "<Figure size 600x500 with 1 Axes>"
      ]
     },
     "metadata": {},
     "output_type": "display_data"
    }
   ],
   "source": [
    "plt.figure(figsize=(6,5))\n",
    "plt.plot(students,students_avg_marks,marker='o',linestyle='--',color='r')\n",
    "plt.xlabel(\"Students\")\n",
    "plt.ylabel(\"Avg Marks\")\n",
    "plt.title(\"Students grades\")\n",
    "plt.tight_layout()\n",
    "plt.show()"
   ]
  },
  {
   "cell_type": "markdown",
   "id": "b07c6f59",
   "metadata": {},
   "source": [
    "As we can see the average marks of 3rd student is greater over all.\n",
    "And the 4th student has lower marks than all."
   ]
  },
  {
   "cell_type": "code",
   "execution_count": 83,
   "id": "b7a0e915",
   "metadata": {},
   "outputs": [
    {
     "data": {
      "text/plain": [
       "92.33"
      ]
     },
     "execution_count": 83,
     "metadata": {},
     "output_type": "execute_result"
    }
   ],
   "source": [
    "np.max(students_avg_marks)"
   ]
  },
  {
   "cell_type": "code",
   "execution_count": 84,
   "id": "014cbaad",
   "metadata": {},
   "outputs": [
    {
     "data": {
      "text/plain": [
       "70.0"
      ]
     },
     "execution_count": 84,
     "metadata": {},
     "output_type": "execute_result"
    }
   ],
   "source": [
    "np.min(students_avg_marks)"
   ]
  },
  {
   "cell_type": "markdown",
   "id": "3252cbdf",
   "metadata": {},
   "source": [
    "Manipulate and transform the data"
   ]
  },
  {
   "cell_type": "code",
   "execution_count": 85,
   "id": "6aef4a6d",
   "metadata": {},
   "outputs": [
    {
     "name": "stdout",
     "output_type": "stream",
     "text": [
      "[[ 90  83  97]\n",
      " [ 81  90  93]\n",
      " [ 95  97 100]\n",
      " [ 73  77  75]\n",
      " [ 93  94  99]]\n",
      "[[  1  90  83  97]\n",
      " [  2  81  90  93]\n",
      " [  3  95  97 100]\n",
      " [  4  73  77  75]\n",
      " [  5  93  94  99]]\n"
     ]
    }
   ],
   "source": [
    "array[:,1:]=array[:,1:]+5\n",
    "print(array[:,1:])\n",
    "print(array)"
   ]
  },
  {
   "cell_type": "code",
   "execution_count": 86,
   "id": "919bbc73",
   "metadata": {},
   "outputs": [
    {
     "name": "stdout",
     "output_type": "stream",
     "text": [
      "90.0 88.0 97.33 75.0 95.33\n"
     ]
    }
   ],
   "source": [
    "new_avg_std1=np.round(np.mean(array[0,1:]),2)\n",
    "new_avg_std2=np.round(np.mean(array[1,1:]),2)\n",
    "new_avg_std3=np.round(np.mean(array[2,1:]),2)\n",
    "new_avg_std4=np.round(np.mean(array[3,1:]),2)\n",
    "new_avg_std5=np.round(np.mean(array[4,1:]),2)\n",
    "\n",
    "print(new_avg_std1,new_avg_std2,new_avg_std3,new_avg_std4,new_avg_std5)"
   ]
  },
  {
   "cell_type": "code",
   "execution_count": null,
   "id": "2607cbd8",
   "metadata": {},
   "outputs": [],
   "source": []
  },
  {
   "cell_type": "code",
   "execution_count": null,
   "id": "26ed2563",
   "metadata": {},
   "outputs": [],
   "source": []
  }
 ],
 "metadata": {
  "kernelspec": {
   "display_name": "Python 3 (ipykernel)",
   "language": "python",
   "name": "python3"
  },
  "language_info": {
   "codemirror_mode": {
    "name": "ipython",
    "version": 3
   },
   "file_extension": ".py",
   "mimetype": "text/x-python",
   "name": "python",
   "nbconvert_exporter": "python",
   "pygments_lexer": "ipython3",
   "version": "3.11.3"
  }
 },
 "nbformat": 4,
 "nbformat_minor": 5
}
