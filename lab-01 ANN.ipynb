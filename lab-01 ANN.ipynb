{
 "cells": [
  {
   "cell_type": "markdown",
   "id": "2a77c0e0",
   "metadata": {},
   "source": [
    "# Roll No : SP23-BAI-012"
   ]
  },
  {
   "cell_type": "code",
   "execution_count": 1,
   "id": "32c977d2",
   "metadata": {},
   "outputs": [
    {
     "name": "stdout",
     "output_type": "stream",
     "text": [
      "Last time this file was run:  2025-02-21 17:07:08.080772\n"
     ]
    }
   ],
   "source": [
    "from datetime import datetime\n",
    "print(\"Last time this file was run: \",datetime.now())"
   ]
  },
  {
   "cell_type": "markdown",
   "id": "aa664fc5",
   "metadata": {},
   "source": [
    "# Lab Task 1"
   ]
  },
  {
   "cell_type": "markdown",
   "id": "d91f5148",
   "metadata": {},
   "source": [
    "List Operations"
   ]
  },
  {
   "cell_type": "code",
   "execution_count": 2,
   "id": "8c71263f",
   "metadata": {},
   "outputs": [
    {
     "name": "stdout",
     "output_type": "stream",
     "text": [
      "['red', 'green', 'blue', 'yellow', 'purple']\n",
      "['red', 'green', 'blue', 'yellow', 'purple', 'orange']\n",
      "['red', 'pink', 'green', 'blue', 'yellow', 'purple', 'orange']\n",
      "['red', 'pink', 'green', 'yellow', 'purple', 'orange']\n",
      "['orange', 'purple', 'yellow', 'green', 'pink', 'red']\n",
      "['green', 'orange', 'pink', 'purple', 'red', 'yellow']\n",
      "Last three elements:  ['purple', 'red', 'yellow']\n",
      "length of list:  6\n"
     ]
    }
   ],
   "source": [
    "list1=['red','green','blue','yellow','purple']\n",
    "print(list1)\n",
    "list1.append('orange')\n",
    "print(list1)\n",
    "list1.insert(1,'pink')\n",
    "print(list1)\n",
    "list1.remove('blue')\n",
    "print(list1)\n",
    "list1.reverse()\n",
    "print(list1)\n",
    "list1=sorted(list1)\n",
    "print(list1)\n",
    "print(\"Last three elements: \",list1[-3:])\n",
    "print(\"length of list: \",len(list1))"
   ]
  },
  {
   "cell_type": "markdown",
   "id": "0df2e4ae",
   "metadata": {},
   "source": [
    "Dictionary Operations"
   ]
  },
  {
   "cell_type": "code",
   "execution_count": 3,
   "id": "9ad1f1a5",
   "metadata": {},
   "outputs": [
    {
     "name": "stdout",
     "output_type": "stream",
     "text": [
      "True\n",
      "name : John\n",
      "age : 26\n",
      "email : john.doe@example.com\n"
     ]
    }
   ],
   "source": [
    "dict1={\n",
    "    \"name\":\"John\",\n",
    "    \"age\":25,\n",
    "    \"city\":\"New York\"\n",
    "}\n",
    "dict1['email']='john.doe@example.com'\n",
    "dict1['age']=26\n",
    "del dict1['city']\n",
    "print('name' in dict1)\n",
    "for key,value in dict1.items():\n",
    "    print(key,\":\",value)"
   ]
  },
  {
   "cell_type": "markdown",
   "id": "93c66833",
   "metadata": {},
   "source": [
    "Tuple Operations"
   ]
  },
  {
   "cell_type": "code",
   "execution_count": 4,
   "id": "39179555",
   "metadata": {},
   "outputs": [
    {
     "name": "stdout",
     "output_type": "stream",
     "text": [
      "30\n"
     ]
    },
    {
     "ename": "TypeError",
     "evalue": "'tuple' object does not support item assignment",
     "output_type": "error",
     "traceback": [
      "\u001b[1;31m---------------------------------------------------------------------------\u001b[0m",
      "\u001b[1;31mTypeError\u001b[0m                                 Traceback (most recent call last)",
      "Cell \u001b[1;32mIn[4], line 3\u001b[0m\n\u001b[0;32m      1\u001b[0m tuple1\u001b[38;5;241m=\u001b[39m(\u001b[38;5;241m10\u001b[39m,\u001b[38;5;241m20\u001b[39m,\u001b[38;5;241m30\u001b[39m,\u001b[38;5;241m40\u001b[39m,\u001b[38;5;241m50\u001b[39m)\n\u001b[0;32m      2\u001b[0m \u001b[38;5;28mprint\u001b[39m(tuple1[\u001b[38;5;241m2\u001b[39m])\n\u001b[1;32m----> 3\u001b[0m tuple1[\u001b[38;5;241m1\u001b[39m]\u001b[38;5;241m=\u001b[39m\u001b[38;5;241m7\u001b[39m\n",
      "\u001b[1;31mTypeError\u001b[0m: 'tuple' object does not support item assignment"
     ]
    }
   ],
   "source": [
    "tuple1=(10,20,30,40,50)\n",
    "print(tuple1[2])\n",
    "tuple1[1]=7"
   ]
  },
  {
   "cell_type": "code",
   "execution_count": 5,
   "id": "91cf5ba1",
   "metadata": {},
   "outputs": [
    {
     "data": {
      "text/plain": [
       "(10, 20, 30, 40, 50, 60, 70, 80)"
      ]
     },
     "execution_count": 5,
     "metadata": {},
     "output_type": "execute_result"
    }
   ],
   "source": [
    "new_tuple=tuple1+(60,70,80)\n",
    "new_tuple"
   ]
  },
  {
   "cell_type": "code",
   "execution_count": 6,
   "id": "5ca0d7cd",
   "metadata": {},
   "outputs": [
    {
     "name": "stdout",
     "output_type": "stream",
     "text": [
      "10\n"
     ]
    }
   ],
   "source": [
    "a,b,c,d,e,f,g,h=new_tuple\n",
    "print(a)"
   ]
  },
  {
   "cell_type": "markdown",
   "id": "a902fa56",
   "metadata": {},
   "source": [
    "Combining Data Structures"
   ]
  },
  {
   "cell_type": "code",
   "execution_count": 7,
   "id": "e8e608c8",
   "metadata": {},
   "outputs": [
    {
     "name": "stdout",
     "output_type": "stream",
     "text": [
      "{'fruits': ['apple', 'banana', 'cherry', 'orange'], 'vegetables': ['carrot', 'brocolli']}\n",
      "yellow\n"
     ]
    }
   ],
   "source": [
    "dict2={\n",
    "    'fruits':['apple','banana','cherry'],\n",
    "    'vegetables':['carrot','brocolli','spinach']\n",
    "}\n",
    "dict2['fruits'].append('orange')\n",
    "dict2['vegetables'].remove('spinach')\n",
    "print(dict2)\n",
    "\n",
    "list2=[('apple','red'),('banana','yellow'),('cherry','red')]\n",
    "print(list2[1][1])"
   ]
  },
  {
   "cell_type": "markdown",
   "id": "eef11fee",
   "metadata": {},
   "source": [
    "# Lab Task 2"
   ]
  },
  {
   "cell_type": "markdown",
   "id": "84b6cb3f",
   "metadata": {},
   "source": [
    "Function Definition and Usage"
   ]
  },
  {
   "cell_type": "code",
   "execution_count": 8,
   "id": "f197dff7",
   "metadata": {},
   "outputs": [],
   "source": [
    "def greet(name):\n",
    "    print(name,\" Welcome here. \")\n",
    "\n",
    "def fibonacci(n):\n",
    "    if (n<=1):\n",
    "        return n\n",
    "    \n",
    "    return fibonacci(n-1)+fibonacci(n-2)\n",
    "\n",
    "def is_prime(n):\n",
    "    if n>1:\n",
    "        for i in range(2,(n//2)+1):\n",
    "            if n%i==0:\n",
    "                print(n, \" is not a prime number\")\n",
    "            else:\n",
    "                print(n,\" is a prime number\")\n",
    "    else:\n",
    "        print(n, \" is not a prime number\")\n",
    "    \n",
    "def factorial(n):\n",
    "    if n==0 or n==1:\n",
    "        return 1\n",
    "    \n",
    "    return n*factorial(n-1)\n",
    "\n",
    "def reverse_string(string):\n",
    "    return reversed(string)"
   ]
  },
  {
   "cell_type": "markdown",
   "id": "b4049061",
   "metadata": {},
   "source": [
    "Class Definition and Usage"
   ]
  },
  {
   "cell_type": "code",
   "execution_count": 9,
   "id": "005f9ac7",
   "metadata": {},
   "outputs": [],
   "source": [
    "class Person:\n",
    "    def __init__(self,name,age,email):\n",
    "        self.name=name\n",
    "        self.email=email\n",
    "        self.age=age\n",
    "        \n",
    "    def introduce(self):\n",
    "        print(\"Welcome \",self.name,\" your age is \", self.age,\" and your email is \",self.email)\n",
    "        \n",
    "class Student(Person):\n",
    "    def __init__(self,name,age,email,student_id):\n",
    "        super().__init__(name,age,email)\n",
    "        self.student_id=student_id\n",
    "        \n",
    "    def study(self):\n",
    "        print(self.name, \" is studing. \")\n",
    "        \n",
    "class Course:\n",
    "    def __init__(self,course_name):\n",
    "        self.course_name=course_name\n",
    "        self.students=[]\n",
    "        \n",
    "    def add_student(self,student):\n",
    "        self.students.append(student)\n",
    "        \n",
    "    def list_students(self):\n",
    "        for student in self.students:\n",
    "            print(student.name)"
   ]
  },
  {
   "cell_type": "markdown",
   "id": "a5daf740",
   "metadata": {},
   "source": [
    "Combining functions and Classes"
   ]
  },
  {
   "cell_type": "code",
   "execution_count": 10,
   "id": "8b2fde9a",
   "metadata": {},
   "outputs": [
    {
     "name": "stdout",
     "output_type": "stream",
     "text": [
      "Attia\n",
      "Noor\n",
      "Khadija\n",
      "Welcome  Attia  your age is  21  and your email is  attia@gmail.com\n",
      "Welcome  Noor  your age is  21  and your email is  noor@gmail.com\n",
      "Welcome  Khadija  your age is  21  and your email is  khadija@gmail.com\n",
      "Attia  is studing. \n"
     ]
    }
   ],
   "source": [
    "course_obj=Course(\"Introduction to Python\")\n",
    "\n",
    "student1=Student(\"Attia\",21,\"attia@gmail.com\",1)\n",
    "student2=Student(\"Noor\",21,\"noor@gmail.com\",2)\n",
    "student3=Student(\"Khadija\",21,\"khadija@gmail.com\",3)\n",
    "\n",
    "course_obj.add_student(student1)\n",
    "course_obj.add_student(student2)\n",
    "course_obj.add_student(student3)\n",
    "\n",
    "course_obj.list_students()\n",
    "\n",
    "student1.introduce()\n",
    "student2.introduce()\n",
    "student3.introduce()\n",
    "\n",
    "student1.study()"
   ]
  },
  {
   "cell_type": "markdown",
   "id": "c04a529e",
   "metadata": {},
   "source": [
    "# Lab Task 3"
   ]
  },
  {
   "cell_type": "markdown",
   "id": "5193de40",
   "metadata": {},
   "source": [
    "Understanding Pickling"
   ]
  },
  {
   "cell_type": "code",
   "execution_count": 11,
   "id": "13c472f8",
   "metadata": {},
   "outputs": [
    {
     "data": {
      "text/plain": [
       "'\\nPickling is a process in python and it is used to save our data or models \\nin .pkl file in a binary mode by which we can use this file later and\\nanywhere \\n'"
      ]
     },
     "execution_count": 11,
     "metadata": {},
     "output_type": "execute_result"
    }
   ],
   "source": [
    "'''\n",
    "Pickling is a process in python and it is used to save our data or models \n",
    "in .pkl file in a binary mode by which we can use this file later and\n",
    "anywhere \n",
    "'''"
   ]
  },
  {
   "cell_type": "markdown",
   "id": "ad23b8cc",
   "metadata": {},
   "source": [
    "Basic Pickling and Unpickling"
   ]
  },
  {
   "cell_type": "code",
   "execution_count": 12,
   "id": "a1086a13",
   "metadata": {
    "scrolled": true
   },
   "outputs": [
    {
     "name": "stdout",
     "output_type": "stream",
     "text": [
      "dict_items([('name', 'Alice'), ('age', 20), ('grade', 'A')])\n",
      "dict_items([('name', 'Bob'), ('age', 22), ('grade', 'B')])\n",
      "dict_items([('name', 'Charlie'), ('age', 19), ('grade', 'C')])\n"
     ]
    }
   ],
   "source": [
    "import pickle\n",
    "students=[\n",
    "    {\"name\":\"Alice\",\"age\":20,'grade':'A'},\n",
    "    {\"name\":\"Bob\",\"age\":22,'grade':'B'},\n",
    "    {\"name\":\"Charlie\",\"age\":19,'grade':'C'}\n",
    "]\n",
    "\n",
    "with open('students.pkl','wb') as file:\n",
    "    pickle.dump(students,file)\n",
    "    \n",
    "    \n",
    "def load_students():\n",
    "    with open('students.pkl','rb') as file:\n",
    "        student_list=pickle.load(file)\n",
    "        \n",
    "    return student_list\n",
    "        \n",
    "\n",
    "student_list2=load_students()\n",
    "\n",
    "for dicts in student_list2:\n",
    "    print(dicts.items())\n",
    "        \n"
   ]
  },
  {
   "cell_type": "markdown",
   "id": "4f0f505d",
   "metadata": {},
   "source": [
    "Working with Custom Classes"
   ]
  },
  {
   "cell_type": "code",
   "execution_count": 13,
   "id": "217a4d94",
   "metadata": {},
   "outputs": [
    {
     "name": "stdout",
     "output_type": "stream",
     "text": [
      "attia 21 A\n",
      "noor 21 A\n",
      "eman 21 A\n"
     ]
    }
   ],
   "source": [
    "class Student:\n",
    "    def __init__(self,name,age,grade):\n",
    "        self.name=name\n",
    "        self.age=age\n",
    "        self.grade=grade\n",
    "        \n",
    "student1=Student('attia',21,'A')\n",
    "student2=Student('noor',21,'A')\n",
    "student3=Student('eman',21,'A')\n",
    "\n",
    "students=[\n",
    "    student1,\n",
    "    student2,\n",
    "    student3\n",
    "]\n",
    "\n",
    "with open('students_class.pkl','wb') as file:\n",
    "    pickle.dump(students,file)\n",
    "    \n",
    "def load_student_objects():\n",
    "    with open('students_class.pkl','rb') as file:\n",
    "        return pickle.load(file)\n",
    "    \n",
    "\n",
    "obj=load_student_objects()\n",
    "for student in obj:\n",
    "    print(student.name,student.age,student.grade)"
   ]
  },
  {
   "cell_type": "markdown",
   "id": "fc64c3a6",
   "metadata": {},
   "source": [
    "Advanced Operations"
   ]
  },
  {
   "cell_type": "code",
   "execution_count": 14,
   "id": "2dbc70bc",
   "metadata": {},
   "outputs": [],
   "source": [
    "def add_student(file,student):\n",
    "    try:\n",
    "        with open(file,'rb') as f:\n",
    "            obj_file=pickle.load(f)\n",
    "    except (FileNotFoundError,EOFError):\n",
    "        obj_file=[]\n",
    "        \n",
    "    obj_file.append(student)\n",
    "    \n",
    "    with open(file,'wb') as f:\n",
    "        pickle.dump(obj_file,f)\n",
    "        \n",
    "        \n",
    "    "
   ]
  },
  {
   "cell_type": "code",
   "execution_count": null,
   "id": "c71dd8a2",
   "metadata": {},
   "outputs": [],
   "source": []
  }
 ],
 "metadata": {
  "kernelspec": {
   "display_name": "Python 3 (ipykernel)",
   "language": "python",
   "name": "python3"
  },
  "language_info": {
   "codemirror_mode": {
    "name": "ipython",
    "version": 3
   },
   "file_extension": ".py",
   "mimetype": "text/x-python",
   "name": "python",
   "nbconvert_exporter": "python",
   "pygments_lexer": "ipython3",
   "version": "3.11.3"
  }
 },
 "nbformat": 4,
 "nbformat_minor": 5
}
